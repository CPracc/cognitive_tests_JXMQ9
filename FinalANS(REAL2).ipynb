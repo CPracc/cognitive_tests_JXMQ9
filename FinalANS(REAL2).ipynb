{
 "cells": [
  {
   "cell_type": "code",
   "execution_count": 12,
   "id": "0c643661-fd9d-418b-a5c8-bc6ec82ad0da",
   "metadata": {},
   "outputs": [],
   "source": [
    "#notes for winter break\n",
    "#won't need to include test code in actual markdown report\n",
    "#i have a photo of what he suggests\n",
    "#aim for 1000-1500 words\n",
    "#the stuff on the photo should be enough to get us a basic first according to him"
   ]
  },
  {
   "cell_type": "code",
   "execution_count": 13,
   "id": "a6e67338-3a85-4aa6-9abf-f4d199d8b2fc",
   "metadata": {},
   "outputs": [],
   "source": [
    "from IPython.display import display, HTML, Image, clear_output\n",
    "import time\n",
    "import random\n",
    "import requests\n",
    "from bs4 import BeautifulSoup\n",
    "import json\n",
    "import pandas as pd\n",
    "import ipywidgets as widgets\n",
    "from IPython.display import display\n",
    "from jupyter_ui_poll import ui_events"
   ]
  },
  {
   "cell_type": "code",
   "execution_count": 14,
   "id": "b9bf6085-0a92-446e-917c-611eae7ea727",
   "metadata": {},
   "outputs": [],
   "source": [
    "data_consent_info = \"\"\"\n",
    "DATA CONSENT INFORMATION:\n",
    "\n",
    "Please read:\n",
    "We wish to record your response data\n",
    "to an anonymised public data repository.\n",
    "Your data will be used for educational teaching purposes\n",
    "practising data analysis and visualisation.\n",
    "Please type yes in the box below if you consent to the upload.\"\"\"\n",
    "\n",
    "id_instructions = \"\"\"Enter your anonymised ID\n",
    "\n",
    "To generate an anonymous 4-letter unique user identifier please enter:\n",
    "- two letters based on the initials (first and last name) of a childhood friend\n",
    "- two letters based on the initials (first and last name) of a favourite actor\n",
    "e.g. if your friend was called Charlie Brown and film star was Tom Cruise\n",
    "then your unique identifer would be CBTC\"\"\"\n",
    "\n",
    "formurl = \"https://docs.google.com/forms/d/e/1FAIpQLSdhxIQOCe12dFcJfpWkrfEKxtQCOQ4JXWBSI148ccS-cO8QfA/viewform?usp=sf_link\"\n",
    "formurlA = \"https://docs.google.com/forms/d/e/1FAIpQLSe73Jl4fH6h0-mP-dxpiq32dlNqFIiduddV1K4jda-Zbz9r_Q/viewform?usp=sf_link\"\n",
    "\n",
    "header_text = \"Welcome to the Appropriate Number Sense (ANS) Test\"\n",
    "intro_text = \"\"\"Once you have agreed to the data consent information below, the test will start.\n",
    "2 images will appear on your screen, one with blue dots and one with yellow dots. \n",
    "You will be able to see this image for 0.75 seconds, after which the image will disappear. \n",
    "Below the image you will see two buttons: one labelled \"Left\" and one labelled \"Right\"\n",
    "\n",
    "The rules for the test are as follows:\n",
    "\n",
    "Please click the button for whichever image had MORE dots.\n",
    "You will have up to 3 seconds to make a selection, after which a new image will appear.\n",
    "If you click the button before the 3 seconds, the next image will immediately load, so there's no need to wait.\n",
    "There are a total of 64 questions, we estimate the test will take 1-3 minutes to complete.\n",
    "You will not be able to see your results at the end of the test.\"\"\"\n",
    "\n",
    "style1 = 'color: black; font-size: 40px;'\n",
    "\n",
    "htmlOut = HTML(f\"<span style ='{style1}'>{header_text}</span>\")"
   ]
  },
  {
   "cell_type": "code",
   "execution_count": 15,
   "id": "17f76e62-9ac4-422f-8c89-3325499616c3",
   "metadata": {},
   "outputs": [],
   "source": [
    "def make64 (list):\n",
    "    longerlist = list\n",
    "    for i in range(2):\n",
    "        for j in range(len(list)):\n",
    "            longerlist.append(list[j])\n",
    "\n",
    "    return longerlist"
   ]
  },
  {
   "cell_type": "code",
   "execution_count": 16,
   "id": "39fbd2aa-41b8-4003-ae12-2571158de177",
   "metadata": {},
   "outputs": [],
   "source": [
    "#necessary variable cell\n",
    "\n",
    "pic1 = Image(\"10vs9.png\", width = 500)\n",
    "pic2 = Image(\"12vs14.png\", width = 500)\n",
    "pic3 = Image(\"12vs16.png\", width = 500)\n",
    "pic4 = Image(\"12vs9.png\", width = 500)\n",
    "pic5 = Image(\"14vs12.png\", width = 500)\n",
    "pic6 = Image(\"15vs20.png\", width = 500)\n",
    "pic7 = Image(\"16vs12.png\", width = 500)\n",
    "pic8 = Image(\"16vs18.png\", width = 500)\n",
    "pic9 = Image(\"18vs16.png\", width = 500)\n",
    "pic10 = Image(\"18vs20.png\", width = 500)\n",
    "pic11 = Image(\"18vs21.png\", width = 500)\n",
    "pic12 = Image(\"20vs15.png\", width = 500)\n",
    "pic13 = Image(\"20vs18.png\", width = 500)\n",
    "pic14 = Image(\"21vs18.png\", width = 500)\n",
    "pic15 = Image(\"9vs10.png\", width = 500)\n",
    "pic16 = Image(\"9vs12.png\", width = 500)\n",
    "\n",
    "pic1a = Image(\"G10vs9.png\", width = 500)\n",
    "pic2a = Image(\"G12vs14.png\", width = 500)\n",
    "pic3a = Image(\"G12vs16.png\", width = 500)\n",
    "pic4a = Image(\"G12vs9.png\", width = 500)\n",
    "pic5a = Image(\"G14vs12.png\", width = 500)\n",
    "pic6a = Image(\"G15vs20.png\", width = 500)\n",
    "pic7a = Image(\"G16vs12.png\", width = 500)\n",
    "pic8a = Image(\"G16vs18.png\", width = 500)\n",
    "pic9a = Image(\"G18vs16.png\", width = 500)\n",
    "pic10a = Image(\"G18vs20.png\", width = 500)\n",
    "pic11a = Image(\"G18vs21.png\", width = 500)\n",
    "pic12a = Image(\"G20vs15.png\", width = 500)\n",
    "pic13a = Image(\"G20vs18.png\", width = 500)\n",
    "pic14a = Image(\"G21vs18.png\", width = 500)\n",
    "pic15a = Image(\"G9vs10.png\", width = 500)\n",
    "pic16a = Image(\"G9vs12.png\", width = 500)\n",
    "\n",
    "piclist = [pic1, pic2, pic3, pic4, pic5, pic6, pic7, pic8, pic9, pic10, pic11, pic12,\n",
    "          pic13, pic14, pic15, pic16]\n",
    "filename = [\"10vs9.png\", \"12vs14.png\", \"12vs16.png\", \"12vs9.png\", \"14vs12.png\", \"15vs20.png\", \"16vs12.png\", \"16vs18.png\",\n",
    "            \"18vs16.png\", \"18vs20.png\", \"18vs21.png\", \"20vs15.png\", \"20vs18.png\", \"21vs18.png\", \"9vs10.png\", \"9vs12.png\"]\n",
    "leftlist = [10, 12, 12, 12, 14, 15, 16, 16, 18, 18, 18, 20, 20, 21, 9, 9]\n",
    "rightlist = [9, 14, 16, 9, 12, 10, 12, 18, 16, 20, 21, 15, 18, 18, 10, 12]\n",
    "ratio = []\n",
    "\n",
    "piclistA = [pic1a, pic2a, pic3a, pic4a, pic5a, pic6a, pic7a, pic8a, pic9a, pic10a, pic11a, pic12a,\n",
    "          pic13a, pic14a, pic15a, pic16a]\n",
    "filenameA = [\"G10vs9.png\", \"G12vs14.png\", \"G12vs16.png\", \"G12vs9.png\", \"G14vs12.png\", \"G15vs20.png\", \"G16vs12.png\", \"G16vs18.png\",\n",
    "            \"G18vs16.png\", \"G18vs20.png\", \"G18vs21.png\", \"G20vs15.png\", \"G20vs18.png\", \"G21vs18.png\", \"G9vs10.png\", \"G9vs12.png\"]\n",
    "\n",
    "for i in range(len(piclist)):\n",
    "    if leftlist[i] < rightlist[i]:\n",
    "        ratio.append(leftlist[i]/rightlist[i])\n",
    "    else:\n",
    "        ratio.append(rightlist[i]/leftlist[i])\n",
    "\n",
    "#expands the list to include 64 values in each - intended test size\n",
    "piclist = make64(piclist)\n",
    "filename = make64(filename)\n",
    "piclistA = make64(piclistA)\n",
    "filenameA = make64(filenameA)\n",
    "leftlist = make64(leftlist)\n",
    "rightlist = make64(rightlist)\n",
    "ratio = make64(ratio)\n",
    "\n",
    "#randomly shuffles all lists but in the same order\n",
    "random.seed(1)\n",
    "random.shuffle(piclist)\n",
    "random.seed(1)\n",
    "random.shuffle(filename)\n",
    "random.seed(1)\n",
    "random.shuffle(piclistA)\n",
    "random.seed(1)\n",
    "random.shuffle(filenameA)\n",
    "random.seed(1)\n",
    "random.shuffle(leftlist)\n",
    "random.seed(1)\n",
    "random.shuffle(rightlist)\n",
    "random.seed(1)\n",
    "random.shuffle(ratio)"
   ]
  },
  {
   "cell_type": "code",
   "execution_count": 17,
   "id": "1ca7b947-b77e-4864-8b21-17c5326f732b",
   "metadata": {},
   "outputs": [],
   "source": [
    "#for the results storing\n",
    "resultsdict = {\n",
    "    'filename' : filename,\n",
    "    'nl' : leftlist,\n",
    "    'nr' : rightlist,\n",
    "    'ratio' :ratio,\n",
    "    'ans' : [],\n",
    "    'correct': [],\n",
    "    'react' : []}\n",
    "\n",
    "resultsdictA = {\n",
    "    'filename' : filenameA,\n",
    "    'nl' : leftlist,\n",
    "    'nr' : rightlist,\n",
    "    'ratio' :ratio,\n",
    "    'ans' : [],\n",
    "    'correct': [],\n",
    "    'react' : []}\n",
    "\n",
    "#for the buttons\n",
    "event_info = {\n",
    "    'type': '',\n",
    "    'description': '',\n",
    "    'time': -1\n",
    "}"
   ]
  },
  {
   "cell_type": "code",
   "execution_count": 18,
   "id": "90ef760f-7b58-4d1d-aa7a-689796687459",
   "metadata": {},
   "outputs": [],
   "source": [
    "#mega important\n",
    "def register_btn_event(btn):\n",
    "    event_info['type'] = \"button click\"\n",
    "    event_info['description'] = btn.description\n",
    "    event_info['time'] = time.time()\n",
    "    return "
   ]
  },
  {
   "cell_type": "code",
   "execution_count": 19,
   "id": "25a1aadb-acf4-400d-9f51-088c38038f65",
   "metadata": {},
   "outputs": [],
   "source": [
    "def wait_for_event(timeout=-1, interval=0.001, max_rate=20, allow_interupt=True):\n",
    "    start_wait = time.time()\n",
    "\n",
    "    event_info['type'] = \"\"\n",
    "    event_info['description'] = \"\"\n",
    "    event_info['time'] = -1\n",
    "\n",
    "    n_proc = int(max_rate*interval)+1\n",
    "    \n",
    "    with ui_events() as ui_poll:\n",
    "        keep_looping = True\n",
    "        while keep_looping==True:\n",
    "            # process UI events\n",
    "            ui_poll(n_proc)\n",
    "\n",
    "            # end loop if we have waited more than the timeout period\n",
    "            if (timeout != -1) and (time.time() > start_wait + timeout):\n",
    "                keep_looping = False\n",
    "                \n",
    "            # end loop if event has occured\n",
    "            if allow_interupt==True and event_info['description']!=\"\":\n",
    "                keep_looping = False\n",
    "                \n",
    "            # add pause before looping\n",
    "            # to check events again\n",
    "            time.sleep(interval)\n",
    "    \n",
    "    # return event description after wait ends\n",
    "    # will be set to empty string '' if no event occured\n",
    "    return event_info"
   ]
  },
  {
   "cell_type": "code",
   "execution_count": 20,
   "id": "342429f9-3d10-43f1-83ef-5afcea366913",
   "metadata": {},
   "outputs": [],
   "source": [
    "#function for a single test\n",
    "\n",
    "def ANSsingle (images, leftlist, rightlist, main_area, btn1, btn2):    \n",
    "    tally = 0\n",
    "\n",
    "    with main_area: display(images)\n",
    "    time.sleep(0.75)\n",
    "    with main_area: clear_output()\n",
    "\n",
    "    start = time.time()\n",
    "\n",
    "    btn1.on_click(register_btn_event)\n",
    "    btn2.on_click(register_btn_event)\n",
    "\n",
    "    result = wait_for_event(timeout=3)\n",
    "    \n",
    "    end = time.time()\n",
    "    reaction = end - start\n",
    "    \n",
    "    if leftlist > rightlist:\n",
    "        anstrue = 'Left'\n",
    "    else:\n",
    "        anstrue = 'Right'\n",
    "        \n",
    "    if  result['description'] == anstrue and reaction < 3:\n",
    "        tally += 1\n",
    "        resultsdict['correct'].append(1)\n",
    "        resultsdict['ans'].append(anstrue)\n",
    "        resultsdict['react'].append(reaction)\n",
    "    else:\n",
    "        resultsdict['correct'].append(0)\n",
    "        resultsdict['ans'].append(anstrue)\n",
    "        resultsdict['react'].append(reaction)\n",
    "\n",
    "    return tally, reaction\n",
    "\n",
    "#since the input function can't be easily broken, instead of using the sleep function\n",
    "#instead just make it so that if the user takes more than 3 seconds they get no points"
   ]
  },
  {
   "cell_type": "code",
   "execution_count": 21,
   "id": "4b3334d8-da1b-4412-9368-4d86c6748e30",
   "metadata": {},
   "outputs": [],
   "source": [
    "#full function\n",
    "\n",
    "def ANSblock (images, leftlist, rightlist):\n",
    "    cleardict()\n",
    "    resulttotal = 0\n",
    "    reacttotal = 0\n",
    "\n",
    "    top_area = widgets.Output(layout={\"height\":\"60px\"})\n",
    "    main_area = widgets.Output(layout={\"height\":\"300px\"})\n",
    "    bottom_area = widgets.Output(layout={\"height\":\"60px\"})\n",
    "\n",
    "    btn1 = widgets.Button(description=\"Left\")\n",
    "    btn2 = widgets.Button(description=\"Right\")\n",
    "    panel = widgets.HBox([btn1, btn2])\n",
    "   \n",
    "    top_area.append_display_data(HTML(\"<h1>Left or Right</h1>\"))\n",
    "    bottom_area.append_display_data(panel)\n",
    "\n",
    "    display(top_area)\n",
    "    display(main_area)\n",
    "    display(bottom_area)\n",
    "    \n",
    "    for i in range(len(images)):\n",
    "        y = ANSsingle(images[i], leftlist[i], rightlist[i], main_area, btn1, btn2)\n",
    "        resulttotal += y[0]\n",
    "        reacttotal += y[1]\n",
    "\n",
    "    clearui(top_area, main_area, bottom_area)\n",
    "        \n",
    "    return resulttotal, reacttotal"
   ]
  },
  {
   "cell_type": "code",
   "execution_count": 22,
   "id": "08c0e342-00bd-4cad-8aa3-1566a2f73a25",
   "metadata": {},
   "outputs": [],
   "source": [
    "def cleardict():\n",
    "    resultsdict['correct'] = []\n",
    "    resultsdict['ans'] = []\n",
    "    resultsdict['react'] = []\n",
    "    return"
   ]
  },
  {
   "cell_type": "code",
   "execution_count": 23,
   "id": "f0f09471-ef33-4f65-9e32-99fd59e7701c",
   "metadata": {},
   "outputs": [],
   "source": [
    "def clearui(top, main, bot):\n",
    "    with top: clear_output()\n",
    "    with main: clear_output()\n",
    "    with bot: clear_output()\n",
    "    return"
   ]
  },
  {
   "cell_type": "code",
   "execution_count": 24,
   "id": "2bc231c7-2683-4613-b549-ac116ad38402",
   "metadata": {},
   "outputs": [],
   "source": [
    "def send_to_google_form(bigdict, formurl):\n",
    "    form_id = formurl[34:90]\n",
    "    view_form_url = f'https://docs.google.com/forms/d/e/{form_id}/viewform'\n",
    "    post_form_url = f'https://docs.google.com/forms/d/e/{form_id}/formResponse'\n",
    "\n",
    "    page = requests.get(view_form_url)\n",
    "    content = BeautifulSoup(page.content, \"html.parser\").find('script', type='text/javascript')\n",
    "    content = content.text[27:-1]\n",
    "    result = json.loads(content)[1][1]\n",
    "    form_dict = {}\n",
    "    \n",
    "    loaded_all = True\n",
    "    for item in result:\n",
    "        if item[1] not in bigdict:\n",
    "            print(f\"Form item {item[1]} not found. Data not uploaded.\")\n",
    "            loaded_all = False\n",
    "            return False\n",
    "        form_dict[f'entry.{item[4][0][0]}'] = bigdict[item[1]]\n",
    "    \n",
    "    post_result = requests.post(post_form_url, data=form_dict)\n",
    "    return post_result.ok"
   ]
  },
  {
   "cell_type": "code",
   "execution_count": 25,
   "id": "f57164de-af68-4431-a20e-7e29169eecb2",
   "metadata": {},
   "outputs": [],
   "source": [
    "def bigdict (result, time, id):\n",
    "    resultsdf = pd.DataFrame(resultsdict)\n",
    "    resultsjson = resultsdf.to_json()\n",
    "\n",
    "    finaldict = {\n",
    "        'id' : id,\n",
    "        'score' : result,\n",
    "        'time': time,\n",
    "        'resultsjson' : resultsjson}\n",
    "\n",
    "    return finaldict"
   ]
  },
  {
   "cell_type": "code",
   "execution_count": 31,
   "id": "3a5e6093-a0fb-4835-b0e6-edfbc9c0387e",
   "metadata": {},
   "outputs": [
    {
     "data": {
      "text/html": [
       "<span style ='color: black; font-size: 40px;'>Welcome to the Appropriate Number Sense (ANS) Test</span>"
      ],
      "text/plain": [
       "<IPython.core.display.HTML object>"
      ]
     },
     "metadata": {},
     "output_type": "display_data"
    },
    {
     "name": "stdout",
     "output_type": "stream",
     "text": [
      "Once you have agreed to the data consent information below, the test will start.\n",
      "2 images will appear on your screen, one with blue dots and one with yellow dots. \n",
      "You will be able to see this image for 0.75 seconds, after which the image will disappear. \n",
      "Below the image you will see two buttons: one labelled \"Left\" and one labelled \"Right\"\n",
      "\n",
      "The rules for the test are as follows:\n",
      "\n",
      "Please click the button for whichever image had MORE dots.\n",
      "You will have up to 3 seconds to make a selection, after which a new image will appear.\n",
      "If you click the button before the 3 seconds, the next image will immediately load, so there's no need to wait.\n",
      "There are a total of 64 questions, we estimate the test will take 1-3 minutes to complete.\n",
      "You will not be able to see your results at the end of the test.\n",
      "\n",
      "DATA CONSENT INFORMATION:\n",
      "\n",
      "Please read:\n",
      "We wish to record your response data\n",
      "to an anonymised public data repository.\n",
      "Your data will be used for educational teaching purposes\n",
      "practising data analysis and visualisation.\n",
      "Please type yes in the box below if you consent to the upload.\n"
     ]
    },
    {
     "name": "stdin",
     "output_type": "stream",
     "text": [
      ">  yes\n"
     ]
    },
    {
     "name": "stdout",
     "output_type": "stream",
     "text": [
      "Thanks for your participation.\n",
      "Please contact philip.lewis@ucl.ac.uk\n",
      "If you have any questions or concerns\n",
      "regarding the stored results.\n",
      "Enter your anonymised ID\n",
      "\n",
      "To generate an anonymous 4-letter unique user identifier please enter:\n",
      "- two letters based on the initials (first and last name) of a childhood friend\n",
      "- two letters based on the initials (first and last name) of a favourite actor\n",
      "e.g. if your friend was called Charlie Brown and film star was Tom Cruise\n",
      "then your unique identifer would be CBTC\n"
     ]
    },
    {
     "name": "stdin",
     "output_type": "stream",
     "text": [
      ">  lplp\n"
     ]
    },
    {
     "name": "stdout",
     "output_type": "stream",
     "text": [
      "User entered id: lplp\n"
     ]
    },
    {
     "name": "stdin",
     "output_type": "stream",
     "text": [
      "When you are ready, press ENTER on your keyboard to begin the test \n"
     ]
    },
    {
     "data": {
      "application/vnd.jupyter.widget-view+json": {
       "model_id": "8ce77e7a9ada4a27913c4203be6164a0",
       "version_major": 2,
       "version_minor": 0
      },
      "text/plain": [
       "Output(layout=Layout(height='60px'), outputs=({'output_type': 'display_data', 'data': {'text/plain': '<IPython…"
      ]
     },
     "metadata": {},
     "output_type": "display_data"
    },
    {
     "data": {
      "application/vnd.jupyter.widget-view+json": {
       "model_id": "4a36d4b2158a47e7ba307ace0d263893",
       "version_major": 2,
       "version_minor": 0
      },
      "text/plain": [
       "Output(layout=Layout(height='300px'))"
      ]
     },
     "metadata": {},
     "output_type": "display_data"
    },
    {
     "data": {
      "application/vnd.jupyter.widget-view+json": {
       "model_id": "319055501edc4585a68e33e31b72d6fb",
       "version_major": 2,
       "version_minor": 0
      },
      "text/plain": [
       "Output(layout=Layout(height='60px'), outputs=({'output_type': 'display_data', 'data': {'text/plain': \"HBox(chi…"
      ]
     },
     "metadata": {},
     "output_type": "display_data"
    },
    {
     "name": "stdout",
     "output_type": "stream",
     "text": [
      "Thank you for completing the basic test. The second test will begin shortly\n"
     ]
    },
    {
     "data": {
      "application/vnd.jupyter.widget-view+json": {
       "model_id": "1f19567a06e647f0a5ce071edbeb5bc7",
       "version_major": 2,
       "version_minor": 0
      },
      "text/plain": [
       "Output(layout=Layout(height='60px'), outputs=({'output_type': 'display_data', 'data': {'text/plain': '<IPython…"
      ]
     },
     "metadata": {},
     "output_type": "display_data"
    },
    {
     "data": {
      "application/vnd.jupyter.widget-view+json": {
       "model_id": "d6a674ffd4454771a1ddb8d539697336",
       "version_major": 2,
       "version_minor": 0
      },
      "text/plain": [
       "Output(layout=Layout(height='300px'))"
      ]
     },
     "metadata": {},
     "output_type": "display_data"
    },
    {
     "data": {
      "application/vnd.jupyter.widget-view+json": {
       "model_id": "8ca3de2f994f4074b7042a839af6dea2",
       "version_major": 2,
       "version_minor": 0
      },
      "text/plain": [
       "Output(layout=Layout(height='60px'), outputs=({'output_type': 'display_data', 'data': {'text/plain': \"HBox(chi…"
      ]
     },
     "metadata": {},
     "output_type": "display_data"
    },
    {
     "data": {
      "text/plain": [
       "True"
      ]
     },
     "execution_count": 31,
     "metadata": {},
     "output_type": "execute_result"
    }
   ],
   "source": [
    "display(htmlOut)\n",
    "time.sleep(1)\n",
    "print(intro_text)\n",
    "time.sleep(3)\n",
    "\n",
    "print(data_consent_info)\n",
    "result = input(\"> \")\n",
    "time.sleep(1)\n",
    "\n",
    "if result == \"yes\":\n",
    "    print(\"Thanks for your participation.\")\n",
    "    print(\"Please contact philip.lewis@ucl.ac.uk\")\n",
    "    print(\"If you have any questions or concerns\")\n",
    "    print(\"regarding the stored results.\")\n",
    "else:\n",
    "    # end code execution by raising an exception\n",
    "    raise(Exception(\"User did not consent to continue test.\"))\n",
    "\n",
    "print(id_instructions)\n",
    "user_id = input(\"> \")\n",
    "print(\"User entered id:\", user_id)\n",
    "time.sleep(1)\n",
    "\n",
    "input(\"When you are ready, press ENTER on your keyboard to begin the test\")\n",
    "time.sleep(2)\n",
    "\n",
    "x = ANSblock(piclist, leftlist, rightlist)\n",
    "\n",
    "finalresult = x[0]\n",
    "finaltime = x[1]\n",
    "\n",
    "finaldict = bigdict(finalresult, finaltime, user_id)\n",
    "send_to_google_form(finaldict, formurl)\n",
    "\n",
    "print(\"Thank you for completing the basic test. The second test will begin shortly\")\n",
    "time.sleep(3)\n",
    "\n",
    "x = ANSblock(piclistA, leftlist, rightlist)\n",
    "\n",
    "finalresult = x[0]\n",
    "finaltime = x[1]\n",
    "\n",
    "finaldict = bigdict(finalresult, finaltime, user_id)\n",
    "send_to_google_form(finaldict, formurlA)"
   ]
  },
  {
   "cell_type": "code",
   "execution_count": 28,
   "id": "35889876-f7c6-44ff-8187-b7711b08610c",
   "metadata": {},
   "outputs": [
    {
     "name": "stdout",
     "output_type": "stream",
     "text": [
      "{'id': 'cpcp', 'score': 50, 'time': 35.01225137710571, 'resultsjson': '{\"filename\":{\"0\":\"16vs12.png\",\"1\":\"20vs18.png\",\"2\":\"14vs12.png\",\"3\":\"12vs9.png\",\"4\":\"12vs9.png\",\"5\":\"15vs20.png\",\"6\":\"20vs18.png\",\"7\":\"18vs21.png\",\"8\":\"12vs16.png\",\"9\":\"12vs14.png\",\"10\":\"18vs21.png\",\"11\":\"18vs16.png\",\"12\":\"21vs18.png\",\"13\":\"18vs21.png\",\"14\":\"18vs20.png\",\"15\":\"18vs20.png\",\"16\":\"20vs18.png\",\"17\":\"12vs16.png\",\"18\":\"9vs10.png\",\"19\":\"20vs15.png\",\"20\":\"9vs12.png\",\"21\":\"18vs16.png\",\"22\":\"9vs12.png\",\"23\":\"16vs18.png\",\"24\":\"18vs16.png\",\"25\":\"18vs20.png\",\"26\":\"10vs9.png\",\"27\":\"16vs18.png\",\"28\":\"12vs14.png\",\"29\":\"20vs15.png\",\"30\":\"15vs20.png\",\"31\":\"21vs18.png\",\"32\":\"18vs21.png\",\"33\":\"12vs16.png\",\"34\":\"12vs9.png\",\"35\":\"9vs10.png\",\"36\":\"14vs12.png\",\"37\":\"21vs18.png\",\"38\":\"15vs20.png\",\"39\":\"9vs10.png\",\"40\":\"9vs12.png\",\"41\":\"15vs20.png\",\"42\":\"10vs9.png\",\"43\":\"16vs12.png\",\"44\":\"20vs15.png\",\"45\":\"12vs16.png\",\"46\":\"12vs14.png\",\"47\":\"16vs18.png\",\"48\":\"16vs12.png\",\"49\":\"21vs18.png\",\"50\":\"18vs16.png\",\"51\":\"18vs20.png\",\"52\":\"9vs10.png\",\"53\":\"20vs18.png\",\"54\":\"20vs15.png\",\"55\":\"9vs12.png\",\"56\":\"16vs18.png\",\"57\":\"10vs9.png\",\"58\":\"14vs12.png\",\"59\":\"10vs9.png\",\"60\":\"12vs9.png\",\"61\":\"16vs12.png\",\"62\":\"14vs12.png\",\"63\":\"12vs14.png\"},\"nl\":{\"0\":16,\"1\":20,\"2\":14,\"3\":12,\"4\":12,\"5\":15,\"6\":20,\"7\":18,\"8\":12,\"9\":12,\"10\":18,\"11\":18,\"12\":21,\"13\":18,\"14\":18,\"15\":18,\"16\":20,\"17\":12,\"18\":9,\"19\":20,\"20\":9,\"21\":18,\"22\":9,\"23\":16,\"24\":18,\"25\":18,\"26\":10,\"27\":16,\"28\":12,\"29\":20,\"30\":15,\"31\":21,\"32\":18,\"33\":12,\"34\":12,\"35\":9,\"36\":14,\"37\":21,\"38\":15,\"39\":9,\"40\":9,\"41\":15,\"42\":10,\"43\":16,\"44\":20,\"45\":12,\"46\":12,\"47\":16,\"48\":16,\"49\":21,\"50\":18,\"51\":18,\"52\":9,\"53\":20,\"54\":20,\"55\":9,\"56\":16,\"57\":10,\"58\":14,\"59\":10,\"60\":12,\"61\":16,\"62\":14,\"63\":12},\"nr\":{\"0\":12,\"1\":18,\"2\":12,\"3\":9,\"4\":9,\"5\":10,\"6\":18,\"7\":21,\"8\":16,\"9\":14,\"10\":21,\"11\":16,\"12\":18,\"13\":21,\"14\":20,\"15\":20,\"16\":18,\"17\":16,\"18\":10,\"19\":15,\"20\":12,\"21\":16,\"22\":12,\"23\":18,\"24\":16,\"25\":20,\"26\":9,\"27\":18,\"28\":14,\"29\":15,\"30\":10,\"31\":18,\"32\":21,\"33\":16,\"34\":9,\"35\":10,\"36\":12,\"37\":18,\"38\":10,\"39\":10,\"40\":12,\"41\":10,\"42\":9,\"43\":12,\"44\":15,\"45\":16,\"46\":14,\"47\":18,\"48\":12,\"49\":18,\"50\":16,\"51\":20,\"52\":10,\"53\":18,\"54\":15,\"55\":12,\"56\":18,\"57\":9,\"58\":12,\"59\":9,\"60\":9,\"61\":12,\"62\":12,\"63\":14},\"ratio\":{\"0\":0.75,\"1\":0.9,\"2\":0.8571428571,\"3\":0.75,\"4\":0.75,\"5\":0.6666666667,\"6\":0.9,\"7\":0.8571428571,\"8\":0.75,\"9\":0.8571428571,\"10\":0.8571428571,\"11\":0.8888888889,\"12\":0.8571428571,\"13\":0.8571428571,\"14\":0.9,\"15\":0.9,\"16\":0.9,\"17\":0.75,\"18\":0.9,\"19\":0.75,\"20\":0.75,\"21\":0.8888888889,\"22\":0.75,\"23\":0.8888888889,\"24\":0.8888888889,\"25\":0.9,\"26\":0.9,\"27\":0.8888888889,\"28\":0.8571428571,\"29\":0.75,\"30\":0.6666666667,\"31\":0.8571428571,\"32\":0.8571428571,\"33\":0.75,\"34\":0.75,\"35\":0.9,\"36\":0.8571428571,\"37\":0.8571428571,\"38\":0.6666666667,\"39\":0.9,\"40\":0.75,\"41\":0.6666666667,\"42\":0.9,\"43\":0.75,\"44\":0.75,\"45\":0.75,\"46\":0.8571428571,\"47\":0.8888888889,\"48\":0.75,\"49\":0.8571428571,\"50\":0.8888888889,\"51\":0.9,\"52\":0.9,\"53\":0.9,\"54\":0.75,\"55\":0.75,\"56\":0.8888888889,\"57\":0.9,\"58\":0.8571428571,\"59\":0.9,\"60\":0.75,\"61\":0.75,\"62\":0.8571428571,\"63\":0.8571428571},\"ans\":{\"0\":\"Left\",\"1\":\"Left\",\"2\":\"Left\",\"3\":\"Left\",\"4\":\"Left\",\"5\":\"Left\",\"6\":\"Left\",\"7\":\"Right\",\"8\":\"Right\",\"9\":\"Right\",\"10\":\"Right\",\"11\":\"Left\",\"12\":\"Left\",\"13\":\"Right\",\"14\":\"Right\",\"15\":\"Right\",\"16\":\"Left\",\"17\":\"Right\",\"18\":\"Right\",\"19\":\"Left\",\"20\":\"Right\",\"21\":\"Left\",\"22\":\"Right\",\"23\":\"Right\",\"24\":\"Left\",\"25\":\"Right\",\"26\":\"Left\",\"27\":\"Right\",\"28\":\"Right\",\"29\":\"Left\",\"30\":\"Left\",\"31\":\"Left\",\"32\":\"Right\",\"33\":\"Right\",\"34\":\"Left\",\"35\":\"Right\",\"36\":\"Left\",\"37\":\"Left\",\"38\":\"Left\",\"39\":\"Right\",\"40\":\"Right\",\"41\":\"Left\",\"42\":\"Left\",\"43\":\"Left\",\"44\":\"Left\",\"45\":\"Right\",\"46\":\"Right\",\"47\":\"Right\",\"48\":\"Left\",\"49\":\"Left\",\"50\":\"Left\",\"51\":\"Right\",\"52\":\"Right\",\"53\":\"Left\",\"54\":\"Left\",\"55\":\"Right\",\"56\":\"Right\",\"57\":\"Left\",\"58\":\"Left\",\"59\":\"Left\",\"60\":\"Left\",\"61\":\"Left\",\"62\":\"Left\",\"63\":\"Right\"},\"correct\":{\"0\":0,\"1\":1,\"2\":1,\"3\":1,\"4\":1,\"5\":0,\"6\":0,\"7\":1,\"8\":1,\"9\":1,\"10\":1,\"11\":1,\"12\":0,\"13\":1,\"14\":1,\"15\":1,\"16\":1,\"17\":1,\"18\":1,\"19\":1,\"20\":1,\"21\":0,\"22\":1,\"23\":1,\"24\":0,\"25\":1,\"26\":1,\"27\":1,\"28\":1,\"29\":1,\"30\":0,\"31\":0,\"32\":1,\"33\":1,\"34\":1,\"35\":1,\"36\":1,\"37\":0,\"38\":0,\"39\":1,\"40\":1,\"41\":0,\"42\":1,\"43\":1,\"44\":1,\"45\":1,\"46\":1,\"47\":1,\"48\":1,\"49\":0,\"50\":1,\"51\":1,\"52\":1,\"53\":1,\"54\":1,\"55\":1,\"56\":1,\"57\":0,\"58\":1,\"59\":0,\"60\":1,\"61\":1,\"62\":1,\"63\":1},\"react\":{\"0\":1.2095353603,\"1\":0.5745308399,\"2\":0.4237060547,\"3\":0.2498586178,\"4\":0.4106264114,\"5\":0.9676222801,\"6\":0.7633793354,\"7\":0.4582870007,\"8\":0.3934299946,\"9\":0.5604331493,\"10\":0.4292502403,\"11\":0.5098803043,\"12\":3.0025396347,\"13\":0.4790096283,\"14\":0.3167798519,\"15\":0.3433613777,\"16\":0.6467578411,\"17\":0.3356101513,\"18\":0.371928215,\"19\":0.288831234,\"20\":0.2505226135,\"21\":0.4215188026,\"22\":0.3600485325,\"23\":0.3622384071,\"24\":0.321880579,\"25\":0.2239773273,\"26\":0.5436165333,\"27\":0.2859501839,\"28\":0.5763494968,\"29\":0.248855114,\"30\":0.2701356411,\"31\":3.001840353,\"32\":0.4186439514,\"33\":0.3287432194,\"34\":0.3494865894,\"35\":0.4490172863,\"36\":0.2641913891,\"37\":3.0025112629,\"38\":0.5814373493,\"39\":0.5497357845,\"40\":0.2803342342,\"41\":0.1483430862,\"42\":0.1577084064,\"43\":0.2277669907,\"44\":0.0689740181,\"45\":0.1851871014,\"46\":0.495752573,\"47\":0.1991651058,\"48\":0.074672699,\"49\":3.0015480518,\"50\":0.6809718609,\"51\":0.3419692516,\"52\":0.552054882,\"53\":0.50096035,\"54\":0.5527873039,\"55\":0.2147624493,\"56\":0.3938486576,\"57\":0.6789062023,\"58\":0.209628582,\"59\":0.0253982544,\"60\":0.0782840252,\"61\":0.0102453232,\"62\":0.1435828209,\"63\":0.2433412075}}'}\n"
     ]
    }
   ],
   "source": [
    "print(finaldict)"
   ]
  },
  {
   "cell_type": "code",
   "execution_count": null,
   "id": "216b7118-8109-4171-9c7a-9f19d5d22c08",
   "metadata": {},
   "outputs": [],
   "source": []
  }
 ],
 "metadata": {
  "kernelspec": {
   "display_name": "Python 3 (ipykernel)",
   "language": "python",
   "name": "python3"
  },
  "language_info": {
   "codemirror_mode": {
    "name": "ipython",
    "version": 3
   },
   "file_extension": ".py",
   "mimetype": "text/x-python",
   "name": "python",
   "nbconvert_exporter": "python",
   "pygments_lexer": "ipython3",
   "version": "3.10.10"
  }
 },
 "nbformat": 4,
 "nbformat_minor": 5
}
