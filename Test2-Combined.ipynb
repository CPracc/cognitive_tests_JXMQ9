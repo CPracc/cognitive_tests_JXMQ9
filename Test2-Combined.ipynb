{
 "cells": [
  {
   "cell_type": "code",
   "execution_count": 119,
   "id": "a6e67338-3a85-4aa6-9abf-f4d199d8b2fc",
   "metadata": {},
   "outputs": [],
   "source": [
    "from IPython.display import display, HTML, Image, clear_output\n",
    "import time\n",
    "import random\n",
    "import requests\n",
    "from bs4 import BeautifulSoup\n",
    "import json\n",
    "import pandas as pd\n",
    "import ipywidgets as widgets\n",
    "from IPython.display import display\n",
    "from jupyter_ui_poll import ui_events"
   ]
  },
  {
   "cell_type": "code",
   "execution_count": 120,
   "id": "b9bf6085-0a92-446e-917c-611eae7ea727",
   "metadata": {},
   "outputs": [],
   "source": [
    "data_consent_info = \"\"\"\n",
    "DATA CONSENT INFORMATION:\n",
    "\n",
    "Please read:\n",
    "We wish to record your response data\n",
    "to an anonymised public data repository.\n",
    "Your data will be used for educational teaching purposes\n",
    "practising data analysis and visualisation.\n",
    "Please type yes in the box below if you consent to the upload.\"\"\"\n",
    "\n",
    "id_instructions = \"\"\"Enter your anonymised ID\n",
    "\n",
    "To generate an anonymous 4-letter unique user identifier please enter:\n",
    "- two letters based on the initials (first and last name) of a childhood friend\n",
    "- two letters based on the initials (first and last name) of a favourite actor\n",
    "e.g. if your friend was called Charlie Brown and film star was Tom Cruise\n",
    "then your unique identifer would be CBTC\"\"\"\n",
    "\n",
    "formurl = \"https://docs.google.com/forms/d/e/1FAIpQLSf95hp02hJIl9GrhBLiKFHXLepEwSclrQj-jmN6ljF9htIL8g/viewform?usp=sf_link\"\n",
    "\n",
    "header_text = \"Welcome to the Appropriate Number Sense (ANS) Test\"\n",
    "intro_text = \"\"\"Once you have agreed to the data consent information below, the test will start.\n",
    "2 images will appear on your screen, both will have a set number of dots in the image.\n",
    "Some images will have blue and yellow dots, others will have both sets of dots be green.\n",
    "You will be able to see this image for 0.75 seconds, after which the image will disappear. \n",
    "Below the image you will see two buttons: one labelled \"Left\" and one labelled \"Right\"\n",
    "\n",
    "The rules for the test are as follows:\n",
    "\n",
    "Please click the button for whichever image had MORE dots.\n",
    "You will have up to 3 seconds to make a selection, after which a new image will appear.\n",
    "If you click the button before the 3 seconds, the next image will immediately load, so there's no need to wait.\n",
    "There are a total of 128 questions, we estimate the test will take about 2 minutes to complete.\n",
    "You will not be able to see your results at the end of the test.\"\"\"\n",
    "\n",
    "style1 = 'color: black; font-size: 40px;'\n",
    "\n",
    "htmlOut = HTML(f\"<span style ='{style1}'>{header_text}</span>\")"
   ]
  },
  {
   "cell_type": "code",
   "execution_count": 121,
   "id": "17f76e62-9ac4-422f-8c89-3325499616c3",
   "metadata": {},
   "outputs": [],
   "source": [
    "#list-making functions\n",
    "def make64 (list):\n",
    "    longerlist = list\n",
    "    for i in range(2):\n",
    "        for j in range(len(list)):\n",
    "            longerlist.append(list[j])\n",
    "\n",
    "    return longerlist\n",
    "\n",
    "def ratList (left, right):\n",
    "    rat = []\n",
    "    for i in range(len(left)):\n",
    "        if left[i] < right[i]:\n",
    "            rat.append(left[i]/right[i])\n",
    "        else:\n",
    "            rat.append(right[i]/left[i])\n",
    "\n",
    "    return rat\n",
    "\n",
    "def typeList (type):\n",
    "    t = []\n",
    "    for i in range(64):\n",
    "        t.append(type)\n",
    "\n",
    "    return t"
   ]
  },
  {
   "cell_type": "code",
   "execution_count": 122,
   "id": "39fbd2aa-41b8-4003-ae12-2571158de177",
   "metadata": {},
   "outputs": [
    {
     "name": "stdout",
     "output_type": "stream",
     "text": [
      "128\n"
     ]
    }
   ],
   "source": [
    "#necessary variables cell\n",
    "\n",
    "pic1 = Image(\"10vs9.png\", width = 500)\n",
    "pic2 = Image(\"12vs14.png\", width = 500)\n",
    "pic3 = Image(\"12vs16.png\", width = 500)\n",
    "pic4 = Image(\"12vs9.png\", width = 500)\n",
    "pic5 = Image(\"14vs12.png\", width = 500)\n",
    "pic6 = Image(\"15vs20.png\", width = 500)\n",
    "pic7 = Image(\"16vs12.png\", width = 500)\n",
    "pic8 = Image(\"16vs18.png\", width = 500)\n",
    "pic9 = Image(\"18vs16.png\", width = 500)\n",
    "pic10 = Image(\"18vs20.png\", width = 500)\n",
    "pic11 = Image(\"18vs21.png\", width = 500)\n",
    "pic12 = Image(\"20vs15.png\", width = 500)\n",
    "pic13 = Image(\"20vs18.png\", width = 500)\n",
    "pic14 = Image(\"21vs18.png\", width = 500)\n",
    "pic15 = Image(\"9vs10.png\", width = 500)\n",
    "pic16 = Image(\"9vs12.png\", width = 500)\n",
    "\n",
    "pic1a = Image(\"G10vs9.png\", width = 500)\n",
    "pic2a = Image(\"G12vs14.png\", width = 500)\n",
    "pic3a = Image(\"G12vs16.png\", width = 500)\n",
    "pic4a = Image(\"G12vs9.png\", width = 500)\n",
    "pic5a = Image(\"G14vs12.png\", width = 500)\n",
    "pic6a = Image(\"G15vs20.png\", width = 500)\n",
    "pic7a = Image(\"G16vs12.png\", width = 500)\n",
    "pic8a = Image(\"G16vs18.png\", width = 500)\n",
    "pic9a = Image(\"G18vs16.png\", width = 500)\n",
    "pic10a = Image(\"G18vs20.png\", width = 500)\n",
    "pic11a = Image(\"G18vs21.png\", width = 500)\n",
    "pic12a = Image(\"G20vs15.png\", width = 500)\n",
    "pic13a = Image(\"G20vs18.png\", width = 500)\n",
    "pic14a = Image(\"G21vs18.png\", width = 500)\n",
    "pic15a = Image(\"G9vs10.png\", width = 500)\n",
    "pic16a = Image(\"G9vs12.png\", width = 500)\n",
    "\n",
    "piclist = [pic1, pic2, pic3, pic4, pic5, pic6, pic7, pic8, pic9, pic10, pic11, pic12,\n",
    "          pic13, pic14, pic15, pic16]\n",
    "filename = [\"10vs9.png\", \"12vs14.png\", \"12vs16.png\", \"12vs9.png\", \"14vs12.png\", \"15vs20.png\", \"16vs12.png\", \"16vs18.png\",\n",
    "            \"18vs16.png\", \"18vs20.png\", \"18vs21.png\", \"20vs15.png\", \"20vs18.png\", \"21vs18.png\", \"9vs10.png\", \"9vs12.png\"]\n",
    "left = [10, 12, 12, 12, 14, 15, 16, 16, 18, 18, 18, 20, 20, 21, 9, 9]\n",
    "right = [9, 14, 16, 9, 12, 10, 12, 18, 16, 20, 21, 15, 18, 18, 10, 12]\n",
    "\n",
    "piclistA = [pic1a, pic2a, pic3a, pic4a, pic5a, pic6a, pic7a, pic8a, pic9a, pic10a, pic11a, pic12a,\n",
    "          pic13a, pic14a, pic15a, pic16a]\n",
    "filenameA = [\"G10vs9.png\", \"G12vs14.png\", \"G12vs16.png\", \"G12vs9.png\", \"G14vs12.png\", \"G15vs20.png\", \"G16vs12.png\", \"G16vs18.png\",\n",
    "            \"G18vs16.png\", \"G18vs20.png\", \"G18vs21.png\", \"G20vs15.png\", \"G20vs18.png\", \"G21vs18.png\", \"G9vs10.png\", \"G9vs12.png\"]\n",
    "rat = ratList(left, right)\n",
    "sList = typeList('standard')\n",
    "gList = typeList('green')\n",
    "\n",
    "\n",
    "#expands the list to include 64 values in each - intended test size\n",
    "piclist = make64(piclist)\n",
    "filename = make64(filename)\n",
    "piclistA = make64(piclistA)\n",
    "filenameA = make64(filenameA)\n",
    "leftlist = make64(left)\n",
    "rightlist = make64(right)\n",
    "ratio = make64(rat)\n",
    "\n",
    "#combines lists in correct corresponding order to make one large test set with the mixed question types\n",
    "piclist = piclist + piclistA\n",
    "filename = filename + filenameA\n",
    "leftlist = leftlist +leftlist.copy()\n",
    "rightlist = rightlist + rightlist.copy()\n",
    "ratio = ratio + ratio.copy()\n",
    "typelist = sList + gList\n",
    "\n",
    "#randomly shuffles all lists but in the same order\n",
    "random.seed(1)\n",
    "random.shuffle(piclist)\n",
    "random.seed(1)\n",
    "random.shuffle(filename)\n",
    "random.seed(1)\n",
    "random.shuffle(leftlist)\n",
    "random.seed(1)\n",
    "random.shuffle(rightlist)\n",
    "random.seed(1)\n",
    "random.shuffle(ratio)\n",
    "random.seed(1)\n",
    "random.shuffle(typelist)\n",
    "\n",
    "print(len(typelist))"
   ]
  },
  {
   "cell_type": "code",
   "execution_count": 123,
   "id": "1ca7b947-b77e-4864-8b21-17c5326f732b",
   "metadata": {},
   "outputs": [],
   "source": [
    "# dictionaries to be used\n",
    "#for the results storing\n",
    "resultsdict = {\n",
    "    'filename' : filename,\n",
    "    'nl' : leftlist,\n",
    "    'nr' : rightlist,\n",
    "    'ratio' :ratio,\n",
    "    'type' : typelist,\n",
    "    'ans' : [],\n",
    "    'correct': [],\n",
    "    'react' : []}\n",
    "\n",
    "#for the buttons\n",
    "event_info = {\n",
    "    'type': '',\n",
    "    'description': '',\n",
    "    'time': -1\n",
    "}"
   ]
  },
  {
   "cell_type": "code",
   "execution_count": 124,
   "id": "90ef760f-7b58-4d1d-aa7a-689796687459",
   "metadata": {},
   "outputs": [],
   "source": [
    "#button functions\n",
    "def register_btn_event(btn):\n",
    "    event_info['type'] = \"button click\"\n",
    "    event_info['description'] = btn.description\n",
    "    event_info['time'] = time.time()\n",
    "    return \n",
    "\n",
    "def wait_for_event(timeout=-1, interval=0.001, max_rate=20, allow_interupt=True):\n",
    "    start_wait = time.time()\n",
    "\n",
    "    event_info['type'] = \"\"\n",
    "    event_info['description'] = \"\"\n",
    "    event_info['time'] = -1\n",
    "\n",
    "    n_proc = int(max_rate*interval)+1\n",
    "    \n",
    "    with ui_events() as ui_poll:\n",
    "        keep_looping = True\n",
    "        while keep_looping==True:\n",
    "            # process UI events\n",
    "            ui_poll(n_proc)\n",
    "\n",
    "            # end loop if we have waited more than the timeout period\n",
    "            if (timeout != -1) and (time.time() > start_wait + timeout):\n",
    "                keep_looping = False\n",
    "                \n",
    "            # end loop if event has occured\n",
    "            if allow_interupt==True and event_info['description']!=\"\":\n",
    "                keep_looping = False\n",
    "                \n",
    "            # add pause before looping\n",
    "            # to check events again\n",
    "            time.sleep(interval)\n",
    "    \n",
    "    # return event description after wait ends\n",
    "    # will be set to empty string '' if no event occured\n",
    "    return event_info"
   ]
  },
  {
   "cell_type": "code",
   "execution_count": 125,
   "id": "342429f9-3d10-43f1-83ef-5afcea366913",
   "metadata": {},
   "outputs": [],
   "source": [
    "#function for a single test\n",
    "def ANSsingle (images, leftlist, rightlist, main_area, btn1, btn2):    \n",
    "    tally = 0\n",
    "\n",
    "    with main_area: display(images)\n",
    "    time.sleep(0.75)\n",
    "    with main_area: clear_output()\n",
    "\n",
    "    start = time.time()\n",
    "\n",
    "    btn1.on_click(register_btn_event)\n",
    "    btn2.on_click(register_btn_event)\n",
    "\n",
    "    result = wait_for_event(timeout=3)\n",
    "    \n",
    "    end = time.time()\n",
    "    reaction = end - start\n",
    "    \n",
    "    if leftlist > rightlist:\n",
    "        anstrue = 'Left'\n",
    "    else:\n",
    "        anstrue = 'Right'\n",
    "        \n",
    "    if  result['description'] == anstrue and reaction < 3:\n",
    "        tally += 1\n",
    "        resultsdict['correct'].append(1)\n",
    "        resultsdict['ans'].append(anstrue)\n",
    "        resultsdict['react'].append(reaction)\n",
    "    else:\n",
    "        resultsdict['correct'].append(0)\n",
    "        resultsdict['ans'].append(anstrue)\n",
    "        resultsdict['react'].append(reaction)\n",
    "\n",
    "    return tally, reaction"
   ]
  },
  {
   "cell_type": "code",
   "execution_count": 126,
   "id": "4b3334d8-da1b-4412-9368-4d86c6748e30",
   "metadata": {},
   "outputs": [],
   "source": [
    "#function that repeats each individual test and records results\n",
    "def ANSblock (images, leftlist, rightlist):\n",
    "    resulttotal = 0\n",
    "    reacttotal = 0\n",
    "\n",
    "    top_area = widgets.Output(layout={\"height\":\"60px\"})\n",
    "    main_area = widgets.Output(layout={\"height\":\"300px\"})\n",
    "    bottom_area = widgets.Output(layout={\"height\":\"60px\"})\n",
    "\n",
    "    btn1 = widgets.Button(description=\"Left\", layout={\"height\":\"60px\", \"width\":\"250px\"})\n",
    "    btn2 = widgets.Button(description=\"Right\", layout={\"height\":\"60px\", \"width\":\"250px\"})\n",
    "    panel = widgets.HBox([btn1, btn2])\n",
    "   \n",
    "    top_area.append_display_data(HTML(\"<h1>Left or Right</h1>\"))\n",
    "    bottom_area.append_display_data(panel)\n",
    "\n",
    "    display(top_area)\n",
    "    display(main_area)\n",
    "    display(bottom_area)\n",
    "    \n",
    "    for i in range(len(images)):\n",
    "        y = ANSsingle(images[i], leftlist[i], rightlist[i], main_area, btn1, btn2)\n",
    "        resulttotal += y[0]\n",
    "        reacttotal += y[1]\n",
    "\n",
    "    clearui(top_area, main_area, bottom_area)\n",
    "        \n",
    "    return resulttotal, reacttotal"
   ]
  },
  {
   "cell_type": "code",
   "execution_count": 127,
   "id": "08c0e342-00bd-4cad-8aa3-1566a2f73a25",
   "metadata": {},
   "outputs": [],
   "source": [
    "#functions to reset test conditions\n",
    "def cleardict():\n",
    "    resultsdict['correct'] = []\n",
    "    resultsdict['ans'] = []\n",
    "    resultsdict['react'] = []\n",
    "    return\n",
    "\n",
    "def clearui(top, main, bot):\n",
    "    with top: clear_output()\n",
    "    with main: clear_output()\n",
    "    with bot: clear_output()\n",
    "    return"
   ]
  },
  {
   "cell_type": "code",
   "execution_count": 128,
   "id": "2bc231c7-2683-4613-b549-ac116ad38402",
   "metadata": {},
   "outputs": [],
   "source": [
    "#function to send the results to the google form linked in the formurl variable\n",
    "def send_to_google_form(bigdict, formurl):\n",
    "    form_id = formurl[34:90]\n",
    "    view_form_url = f'https://docs.google.com/forms/d/e/{form_id}/viewform'\n",
    "    post_form_url = f'https://docs.google.com/forms/d/e/{form_id}/formResponse'\n",
    "\n",
    "    page = requests.get(view_form_url)\n",
    "    content = BeautifulSoup(page.content, \"html.parser\").find('script', type='text/javascript')\n",
    "    content = content.text[27:-1]\n",
    "    result = json.loads(content)[1][1]\n",
    "    form_dict = {}\n",
    "    \n",
    "    loaded_all = True\n",
    "    for item in result:\n",
    "        if item[1] not in bigdict:\n",
    "            print(f\"Form item {item[1]} not found. Data not uploaded.\")\n",
    "            loaded_all = False\n",
    "            return False\n",
    "        form_dict[f'entry.{item[4][0][0]}'] = bigdict[item[1]]\n",
    "    \n",
    "    post_result = requests.post(post_form_url, data=form_dict)\n",
    "    return post_result.ok"
   ]
  },
  {
   "cell_type": "code",
   "execution_count": 129,
   "id": "f57164de-af68-4431-a20e-7e29169eecb2",
   "metadata": {},
   "outputs": [],
   "source": [
    "def bigdict (result, time, id):\n",
    "    resultsdf = pd.DataFrame(resultsdict)\n",
    "    resultsjson = resultsdf.to_json()\n",
    "\n",
    "    finaldict = {\n",
    "        'id' : id,\n",
    "        'score' : result,\n",
    "        'time': time,\n",
    "        'resultsjson' : resultsjson}\n",
    "\n",
    "    return finaldict"
   ]
  },
  {
   "cell_type": "code",
   "execution_count": 130,
   "id": "3a5e6093-a0fb-4835-b0e6-edfbc9c0387e",
   "metadata": {},
   "outputs": [
    {
     "data": {
      "text/html": [
       "<span style ='color: black; font-size: 40px;'>Welcome to the Appropriate Number Sense (ANS) Test</span>"
      ],
      "text/plain": [
       "<IPython.core.display.HTML object>"
      ]
     },
     "metadata": {},
     "output_type": "display_data"
    },
    {
     "name": "stdout",
     "output_type": "stream",
     "text": [
      "Once you have agreed to the data consent information below, the test will start.\n",
      "2 images will appear on your screen, both will have a set number of dots in the image.\n",
      "Some images will have blue and yellow dots, others will have both sets of dots be green.\n",
      "You will be able to see this image for 0.75 seconds, after which the image will disappear. \n",
      "Below the image you will see two buttons: one labelled \"Left\" and one labelled \"Right\"\n",
      "\n",
      "The rules for the test are as follows:\n",
      "\n",
      "Please click the button for whichever image had MORE dots.\n",
      "You will have up to 3 seconds to make a selection, after which a new image will appear.\n",
      "If you click the button before the 3 seconds, the next image will immediately load, so there's no need to wait.\n",
      "There are a total of 128 questions, we estimate the test will take about 2 minutes to complete.\n",
      "You will not be able to see your results at the end of the test.\n",
      "\n",
      "DATA CONSENT INFORMATION:\n",
      "\n",
      "Please read:\n",
      "We wish to record your response data\n",
      "to an anonymised public data repository.\n",
      "Your data will be used for educational teaching purposes\n",
      "practising data analysis and visualisation.\n",
      "Please type yes in the box below if you consent to the upload.\n"
     ]
    },
    {
     "name": "stdin",
     "output_type": "stream",
     "text": [
      ">  yes\n"
     ]
    },
    {
     "name": "stdout",
     "output_type": "stream",
     "text": [
      "Thanks for your participation.\n",
      "Please contact philip.lewis@ucl.ac.uk\n",
      "If you have any questions or concerns\n",
      "regarding the stored results.\n",
      "Enter your anonymised ID\n",
      "\n",
      "To generate an anonymous 4-letter unique user identifier please enter:\n",
      "- two letters based on the initials (first and last name) of a childhood friend\n",
      "- two letters based on the initials (first and last name) of a favourite actor\n",
      "e.g. if your friend was called Charlie Brown and film star was Tom Cruise\n",
      "then your unique identifer would be CBTC\n"
     ]
    },
    {
     "name": "stdin",
     "output_type": "stream",
     "text": [
      ">  tezt\n"
     ]
    },
    {
     "name": "stdout",
     "output_type": "stream",
     "text": [
      "User entered id: TEZT\n"
     ]
    },
    {
     "name": "stdin",
     "output_type": "stream",
     "text": [
      "When you are ready, press ENTER on your keyboard to begin the test \n"
     ]
    },
    {
     "data": {
      "application/vnd.jupyter.widget-view+json": {
       "model_id": "3fa3da14ad3c40638c53fcbc4423b14a",
       "version_major": 2,
       "version_minor": 0
      },
      "text/plain": [
       "Output(layout=Layout(height='60px'), outputs=({'output_type': 'display_data', 'data': {'text/plain': '<IPython…"
      ]
     },
     "metadata": {},
     "output_type": "display_data"
    },
    {
     "data": {
      "application/vnd.jupyter.widget-view+json": {
       "model_id": "d151b99a49a641f6b06860beebe3f1ab",
       "version_major": 2,
       "version_minor": 0
      },
      "text/plain": [
       "Output(layout=Layout(height='300px'))"
      ]
     },
     "metadata": {},
     "output_type": "display_data"
    },
    {
     "data": {
      "application/vnd.jupyter.widget-view+json": {
       "model_id": "bcc7797c680a4fb7a3e74b9192cd4e51",
       "version_major": 2,
       "version_minor": 0
      },
      "text/plain": [
       "Output(layout=Layout(height='60px'), outputs=({'output_type': 'display_data', 'data': {'text/plain': \"HBox(chi…"
      ]
     },
     "metadata": {},
     "output_type": "display_data"
    },
    {
     "name": "stdout",
     "output_type": "stream",
     "text": [
      "Thank you for your participation.\n"
     ]
    }
   ],
   "source": [
    "cleardict()\n",
    "display(htmlOut)\n",
    "time.sleep(1)\n",
    "print(intro_text)\n",
    "time.sleep(3)\n",
    "\n",
    "print(data_consent_info)\n",
    "result = input(\"> \")\n",
    "time.sleep(1)\n",
    "\n",
    "if result == \"yes\":\n",
    "    print(\"Thanks for your participation.\")\n",
    "    print(\"Please contact philip.lewis@ucl.ac.uk\")\n",
    "    print(\"If you have any questions or concerns\")\n",
    "    print(\"regarding the stored results.\")\n",
    "else:\n",
    "    # end code execution by raising an exception\n",
    "    raise(Exception(\"User did not consent to continue test.\"))\n",
    "\n",
    "print(id_instructions)\n",
    "user_id = input(\"> \").upper()\n",
    "print(\"User entered id:\", user_id)\n",
    "time.sleep(1)\n",
    "\n",
    "input(\"When you are ready, press ENTER on your keyboard to begin the test\")\n",
    "time.sleep(2)\n",
    "\n",
    "x = ANSblock(piclist, leftlist, rightlist)\n",
    "\n",
    "result = x[0]\n",
    "time = x[1]\n",
    "\n",
    "finaldict = bigdict(result, time, user_id)\n",
    "send_to_google_form(finaldict, formurl)\n",
    "\n",
    "print(\"Thank you for your participation.\")"
   ]
  },
  {
   "cell_type": "code",
   "execution_count": 131,
   "id": "20811dc4-09dc-4bbf-bd6a-b33b44713664",
   "metadata": {},
   "outputs": [
    {
     "name": "stdout",
     "output_type": "stream",
     "text": [
      "{'filename': ['9vs10.png', '9vs10.png', 'G16vs18.png', '14vs12.png', 'G9vs12.png', 'G12vs14.png', 'G14vs12.png', '12vs14.png', '14vs12.png', '12vs9.png', 'G12vs9.png', 'G20vs18.png', 'G9vs10.png', 'G18vs21.png', 'G16vs18.png', 'G10vs9.png', '16vs12.png', 'G20vs18.png', '16vs18.png', '10vs9.png', '15vs20.png', '18vs20.png', '14vs12.png', 'G9vs12.png', 'G18vs20.png', '21vs18.png', 'G9vs10.png', 'G16vs12.png', '16vs12.png', '18vs20.png', '16vs18.png', '14vs12.png', 'G18vs16.png', 'G18vs21.png', '12vs16.png', 'G20vs15.png', '12vs14.png', '18vs21.png', '16vs12.png', '20vs15.png', 'G10vs9.png', '15vs20.png', '21vs18.png', '20vs15.png', '12vs9.png', 'G15vs20.png', '20vs15.png', 'G12vs16.png', 'G10vs9.png', 'G21vs18.png', '9vs12.png', 'G18vs21.png', '9vs10.png', 'G9vs10.png', 'G14vs12.png', '18vs20.png', 'G18vs20.png', 'G12vs14.png', '9vs12.png', 'G12vs14.png', 'G14vs12.png', '12vs16.png', '12vs9.png', '18vs16.png', 'G15vs20.png', 'G10vs9.png', '18vs21.png', 'G18vs16.png', 'G18vs20.png', '16vs18.png', 'G9vs12.png', '15vs20.png', 'G16vs18.png', '15vs20.png', '18vs21.png', 'G12vs16.png', 'G9vs10.png', '20vs18.png', 'G18vs16.png', 'G16vs12.png', 'G16vs18.png', '18vs16.png', '20vs18.png', 'G12vs9.png', 'G20vs15.png', '16vs12.png', '20vs15.png', 'G12vs16.png', '12vs14.png', 'G15vs20.png', 'G12vs9.png', 'G21vs18.png', '12vs16.png', 'G21vs18.png', '18vs16.png', '21vs18.png', 'G20vs15.png', '21vs18.png', 'G20vs18.png', 'G9vs12.png', 'G15vs20.png', 'G18vs20.png', '10vs9.png', 'G12vs16.png', 'G16vs12.png', 'G21vs18.png', '16vs18.png', '12vs14.png', 'G18vs21.png', '12vs9.png', '9vs10.png', '20vs18.png', '18vs21.png', 'G14vs12.png', '10vs9.png', 'G12vs9.png', '20vs18.png', '18vs20.png', 'G20vs15.png', '9vs12.png', '9vs12.png', '10vs9.png', '18vs16.png', 'G12vs14.png', 'G16vs12.png', 'G20vs18.png', 'G18vs16.png', '12vs16.png'], 'nl': [9, 9, 16, 14, 9, 12, 14, 12, 14, 12, 12, 20, 9, 18, 16, 10, 16, 20, 16, 10, 15, 18, 14, 9, 18, 21, 9, 16, 16, 18, 16, 14, 18, 18, 12, 20, 12, 18, 16, 20, 10, 15, 21, 20, 12, 15, 20, 12, 10, 21, 9, 18, 9, 9, 14, 18, 18, 12, 9, 12, 14, 12, 12, 18, 15, 10, 18, 18, 18, 16, 9, 15, 16, 15, 18, 12, 9, 20, 18, 16, 16, 18, 20, 12, 20, 16, 20, 12, 12, 15, 12, 21, 12, 21, 18, 21, 20, 21, 20, 9, 15, 18, 10, 12, 16, 21, 16, 12, 18, 12, 9, 20, 18, 14, 10, 12, 20, 18, 20, 9, 9, 10, 18, 12, 16, 20, 18, 12], 'nr': [10, 10, 18, 12, 12, 14, 12, 14, 12, 9, 9, 18, 10, 21, 18, 9, 12, 18, 18, 9, 10, 20, 12, 12, 20, 18, 10, 12, 12, 20, 18, 12, 16, 21, 16, 15, 14, 21, 12, 15, 9, 10, 18, 15, 9, 10, 15, 16, 9, 18, 12, 21, 10, 10, 12, 20, 20, 14, 12, 14, 12, 16, 9, 16, 10, 9, 21, 16, 20, 18, 12, 10, 18, 10, 21, 16, 10, 18, 16, 12, 18, 16, 18, 9, 15, 12, 15, 16, 14, 10, 9, 18, 16, 18, 16, 18, 15, 18, 18, 12, 10, 20, 9, 16, 12, 18, 18, 14, 21, 9, 10, 18, 21, 12, 9, 9, 18, 20, 15, 12, 12, 9, 16, 14, 12, 18, 16, 16], 'ratio': [0.9, 0.9, 0.8888888888888888, 0.8571428571428571, 0.75, 0.8571428571428571, 0.8571428571428571, 0.8571428571428571, 0.8571428571428571, 0.75, 0.75, 0.9, 0.9, 0.8571428571428571, 0.8888888888888888, 0.9, 0.75, 0.9, 0.8888888888888888, 0.9, 0.6666666666666666, 0.9, 0.8571428571428571, 0.75, 0.9, 0.8571428571428571, 0.9, 0.75, 0.75, 0.9, 0.8888888888888888, 0.8571428571428571, 0.8888888888888888, 0.8571428571428571, 0.75, 0.75, 0.8571428571428571, 0.8571428571428571, 0.75, 0.75, 0.9, 0.6666666666666666, 0.8571428571428571, 0.75, 0.75, 0.6666666666666666, 0.75, 0.75, 0.9, 0.8571428571428571, 0.75, 0.8571428571428571, 0.9, 0.9, 0.8571428571428571, 0.9, 0.9, 0.8571428571428571, 0.75, 0.8571428571428571, 0.8571428571428571, 0.75, 0.75, 0.8888888888888888, 0.6666666666666666, 0.9, 0.8571428571428571, 0.8888888888888888, 0.9, 0.8888888888888888, 0.75, 0.6666666666666666, 0.8888888888888888, 0.6666666666666666, 0.8571428571428571, 0.75, 0.9, 0.9, 0.8888888888888888, 0.75, 0.8888888888888888, 0.8888888888888888, 0.9, 0.75, 0.75, 0.75, 0.75, 0.75, 0.8571428571428571, 0.6666666666666666, 0.75, 0.8571428571428571, 0.75, 0.8571428571428571, 0.8888888888888888, 0.8571428571428571, 0.75, 0.8571428571428571, 0.9, 0.75, 0.6666666666666666, 0.9, 0.9, 0.75, 0.75, 0.8571428571428571, 0.8888888888888888, 0.8571428571428571, 0.8571428571428571, 0.75, 0.9, 0.9, 0.8571428571428571, 0.8571428571428571, 0.9, 0.75, 0.9, 0.9, 0.75, 0.75, 0.75, 0.9, 0.8888888888888888, 0.8571428571428571, 0.75, 0.9, 0.8888888888888888, 0.75], 'type': ['standard', 'standard', 'green', 'standard', 'green', 'green', 'green', 'standard', 'standard', 'standard', 'green', 'green', 'green', 'green', 'green', 'green', 'standard', 'green', 'standard', 'standard', 'standard', 'standard', 'standard', 'green', 'green', 'standard', 'green', 'green', 'standard', 'standard', 'standard', 'standard', 'green', 'green', 'standard', 'green', 'standard', 'standard', 'standard', 'standard', 'green', 'standard', 'standard', 'standard', 'standard', 'green', 'standard', 'green', 'green', 'green', 'standard', 'green', 'standard', 'green', 'green', 'standard', 'green', 'green', 'standard', 'green', 'green', 'standard', 'standard', 'standard', 'green', 'green', 'standard', 'green', 'green', 'standard', 'green', 'standard', 'green', 'standard', 'standard', 'green', 'green', 'standard', 'green', 'green', 'green', 'standard', 'standard', 'green', 'green', 'standard', 'standard', 'green', 'standard', 'green', 'green', 'green', 'standard', 'green', 'standard', 'standard', 'green', 'standard', 'green', 'green', 'green', 'green', 'standard', 'green', 'green', 'green', 'standard', 'standard', 'green', 'standard', 'standard', 'standard', 'standard', 'green', 'standard', 'green', 'standard', 'standard', 'green', 'standard', 'standard', 'standard', 'standard', 'green', 'green', 'green', 'green', 'standard'], 'ans': ['Right', 'Right', 'Right', 'Left', 'Right', 'Right', 'Left', 'Right', 'Left', 'Left', 'Left', 'Left', 'Right', 'Right', 'Right', 'Left', 'Left', 'Left', 'Right', 'Left', 'Left', 'Right', 'Left', 'Right', 'Right', 'Left', 'Right', 'Left', 'Left', 'Right', 'Right', 'Left', 'Left', 'Right', 'Right', 'Left', 'Right', 'Right', 'Left', 'Left', 'Left', 'Left', 'Left', 'Left', 'Left', 'Left', 'Left', 'Right', 'Left', 'Left', 'Right', 'Right', 'Right', 'Right', 'Left', 'Right', 'Right', 'Right', 'Right', 'Right', 'Left', 'Right', 'Left', 'Left', 'Left', 'Left', 'Right', 'Left', 'Right', 'Right', 'Right', 'Left', 'Right', 'Left', 'Right', 'Right', 'Right', 'Left', 'Left', 'Left', 'Right', 'Left', 'Left', 'Left', 'Left', 'Left', 'Left', 'Right', 'Right', 'Left', 'Left', 'Left', 'Right', 'Left', 'Left', 'Left', 'Left', 'Left', 'Left', 'Right', 'Left', 'Right', 'Left', 'Right', 'Left', 'Left', 'Right', 'Right', 'Right', 'Left', 'Right', 'Left', 'Right', 'Left', 'Left', 'Left', 'Left', 'Right', 'Left', 'Right', 'Right', 'Left', 'Left', 'Right', 'Left', 'Left', 'Left', 'Right'], 'correct': [1, 1, 1, 1, 1, 1, 1, 1, 1, 1, 1, 1, 0, 1, 1, 1, 1, 1, 1, 1, 0, 1, 1, 1, 1, 1, 1, 0, 1, 1, 1, 1, 1, 1, 1, 1, 0, 0, 1, 1, 0, 0, 1, 1, 1, 0, 1, 1, 1, 1, 1, 1, 1, 1, 1, 1, 1, 1, 1, 1, 1, 1, 1, 0, 0, 1, 1, 0, 1, 1, 1, 0, 1, 0, 1, 1, 1, 1, 1, 1, 1, 1, 1, 1, 1, 1, 1, 1, 1, 0, 1, 1, 1, 1, 0, 1, 1, 1, 1, 1, 0, 1, 0, 1, 1, 1, 1, 0, 1, 1, 0, 1, 1, 1, 1, 1, 1, 1, 1, 1, 1, 1, 0, 0, 1, 1, 1, 1], 'react': [0.2860591411590576, 0.04863548278808594, 0.010546207427978516, 0.1511986255645752, 0.012387275695800781, 0.07410335540771484, 0.11676692962646484, 0.1703808307647705, 0.04311108589172363, 0.15860319137573242, 0.12536001205444336, 0.013048410415649414, 0.012939453125, 0.19669747352600098, 0.2502739429473877, 0.14276361465454102, 0.09817957878112793, 0.3402595520019531, 0.08465695381164551, 0.201552152633667, 0.08424663543701172, 0.08540964126586914, 0.2435774803161621, 0.012411832809448242, 0.1414165496826172, 0.01445150375366211, 0.04529523849487305, 0.21188974380493164, 0.05017495155334473, 0.058133602142333984, 0.24591517448425293, 0.010317802429199219, 0.5256776809692383, 0.047963857650756836, 0.20089006423950195, 0.04773139953613281, 0.5333609580993652, 0.16652584075927734, 0.12018346786499023, 0.32337164878845215, 0.11609721183776855, 0.07212257385253906, 0.046900272369384766, 0.04047870635986328, 0.08321619033813477, 0.009792804718017578, 0.09990739822387695, 0.00979757308959961, 0.12526464462280273, 0.24957013130187988, 0.029570817947387695, 0.07413887977600098, 0.40039730072021484, 0.20399093627929688, 0.2406301498413086, 0.03618001937866211, 0.06262326240539551, 0.3518791198730469, 0.13832330703735352, 0.012512683868408203, 0.636650562286377, 0.06388545036315918, 0.15784716606140137, 0.051674604415893555, 0.07586455345153809, 0.3965878486633301, 0.05358409881591797, 0.20796656608581543, 0.056440114974975586, 0.13075852394104004, 0.259197473526001, 0.052881479263305664, 0.16265249252319336, 0.013213396072387695, 0.14715051651000977, 0.037986040115356445, 0.7436466217041016, 0.11007881164550781, 0.35249781608581543, 0.13510584831237793, 0.1357131004333496, 0.14618706703186035, 0.336810827255249, 0.14759063720703125, 0.23661088943481445, 0.045797109603881836, 0.23191142082214355, 0.14239835739135742, 0.1504652500152588, 0.09838390350341797, 0.061330556869506836, 0.09956932067871094, 0.07270121574401855, 0.17549538612365723, 0.15111875534057617, 0.14340496063232422, 0.14992213249206543, 0.12082886695861816, 0.5495049953460693, 0.046144962310791016, 0.08785676956176758, 0.08578610420227051, 0.15221023559570312, 0.11429023742675781, 0.30354833602905273, 0.1502690315246582, 0.05924844741821289, 0.559913158416748, 0.013199567794799805, 0.1741161346435547, 0.5026957988739014, 0.35386061668395996, 0.012764930725097656, 0.16393327713012695, 0.3566009998321533, 0.16885924339294434, 0.3554117679595947, 0.051862239837646484, 0.13891029357910156, 0.07213735580444336, 0.011919260025024414, 0.20186662673950195, 0.10633563995361328, 0.5894248485565186, 0.09368276596069336, 0.6651449203491211, 0.3230605125427246, 0.03311777114868164]}\n"
     ]
    }
   ],
   "source": [
    "print(resultsdict)"
   ]
  },
  {
   "cell_type": "code",
   "execution_count": null,
   "id": "2ea07316-3bfe-48cf-8816-5c80f424721d",
   "metadata": {},
   "outputs": [],
   "source": []
  }
 ],
 "metadata": {
  "kernelspec": {
   "display_name": "Python 3 (ipykernel)",
   "language": "python",
   "name": "python3"
  },
  "language_info": {
   "codemirror_mode": {
    "name": "ipython",
    "version": 3
   },
   "file_extension": ".py",
   "mimetype": "text/x-python",
   "name": "python",
   "nbconvert_exporter": "python",
   "pygments_lexer": "ipython3",
   "version": "3.10.10"
  }
 },
 "nbformat": 4,
 "nbformat_minor": 5
}
